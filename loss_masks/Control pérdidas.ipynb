{
 "metadata": {
  "language_info": {
   "codemirror_mode": {
    "name": "ipython",
    "version": 3
   },
   "file_extension": ".py",
   "mimetype": "text/x-python",
   "name": "python",
   "nbconvert_exporter": "python",
   "pygments_lexer": "ipython3",
   "version": "3.8.3-final"
  },
  "orig_nbformat": 2,
  "kernelspec": {
   "name": "python3",
   "display_name": "Python 3",
   "language": "python"
  }
 },
 "nbformat": 4,
 "nbformat_minor": 2,
 "cells": [
  {
   "source": [
    "# Control de pérdidas"
   ],
   "cell_type": "markdown",
   "metadata": {}
  },
  {
   "source": [
    "### Mensaje _(Contenido en 'example.txt')_:\n",
    "\n",
    "'123456789101112131415161718192021222324252627282930313233343536373839404142434445464748495051  5251234567891011121314151617181920212223242526272829303132333435363738394041424344454647484950  5152512345678910111213141516171819202122232425262728293031323334353637383940414243444546474849  \n",
    "5051525748495051525'\n",
    "\n",
    "El cual toma 300 bytes, el cual es el tamaño máximo que admite el perfil de 1-byte Header. Esto da lugar a 27 fragmentos de 11 bytes cada uno, y a un último fragmento de 3 bytes.\n",
    "\n",
    "Cada ventana alojará hasta 7 fragmentos (tiles). Por lo que será necesario un total de 4 ventanas. Se representará cada ventana por una linea de numeros, cuyo largo será de 7 a excepción de la última, que puede ser menor. Cada número indicará la cantidad de retransmisiones necesarias para llevar a cabo la comunicación, debido a pérdidas inducidas. En este caso, un ejemplo sería:\n",
    "\n",
    "0000000  \n",
    "0000000  \n",
    "0000000  \n",
    "0000000\n",
    "\n",
    "Donde el mensaje se enviará sin contemplar pérdidas\n",
    "\n",
    "\n"
   ],
   "cell_type": "markdown",
   "metadata": {}
  },
  {
   "source": [
    "### Observaciones\n",
    "1.- Dado que el protocolo SCHC establece que se deben actualizar el número de Attemps en el sender; tras enviar un All-1 o un ACK REQ. Esto podría inducir a sobreestimar los reintentos.\n",
    "\n",
    "2.- El protocolo SCHC también establece que un ACK REQ se envía luego de un All-1 o un reintento de tiles. (No necesariamente después de un All-0) "
   ],
   "cell_type": "markdown",
   "metadata": {}
  },
  {
   "source": [
    "## Caso 1: \n",
    "\n",
    "0010000    \n",
    "0000000  \n",
    "0000000  \n",
    "0000000  \n",
    "\n",
    "* Se espera que se pierda sólo el tercer fragmento de la primera ventana\n",
    "* Este será retransmitido luego de que se envíe el All-1 y se reciba el ACK correspondiente antes de que expire el timer.\n",
    "\n",
    "\n"
   ],
   "cell_type": "markdown",
   "metadata": {
    "pycharm": {
     "name": "#%% md\n"
    }
   }
  },
  {
   "cell_type": "markdown",
   "source": [
    "## Caso 2:\n",
    "\n",
    "0010000  \n",
    "0000001  \n",
    "0100000  \n",
    "0000010\n",
    "\n",
    "* Al enviar el All-1 el sender espera por un ACK (intentos = 1)\n",
    "* El ACK viene con información de la primera ventana. El Sender reenvía la tercera tile (intentos = 2). El sender envía un ACK REQ.\n",
    "* El receiver manda un un ACK con información de la segunda ventana. El sender reenvía la última tile (intentos = 3) y manda luego un ACK REQ\n",
    "* El receiver manda un ACK con info de la tercera ventana. EL sender reenvía la segunda tile (intentos = 4) y luego manda un ACK REQ.\n",
    "* El receiver manda un ACK con info de la cuarta ventana. El sender reenvía la penultima tile (intentos = 5) y luego manda un ACK REQ\n",
    "* El receiver manda un ACK dando a entender que todo está en orden. El sender reenvía un All-1. (intentos = 6) El receiver da por terminada la comunicación con éxito.\n",
    " \n"
   ],
   "metadata": {
    "collapsed": false
   }
  },
  {
   "cell_type": "markdown",
   "source": [
    "## Caso 3:\n",
    "\n",
    "\n",
    "0010000  \n",
    "0000000  \n",
    "0000002  \n",
    "0000000  \n",
    "\n",
    "* Al enviar el All-1 el sender espera por un ACK (intentos = 1)\n",
    "\n",
    "* El ACK viene con información de la primera ventana. El Sender reenvía la tercera tile (intentos = 2). El sender envía un ACK REQ.\n",
    "* El receiver manda un ACK con info de la tercera ventana. EL sender reenvía la segunda tile (intentos = 3) y luego manda un ACK REQ.\n",
    "* El receiver manda un ACK con info de la tercera ventana. EL sender reenvía la segunda tile (intentos = 4) y luego manda un ACK REQ.\n",
    "* El receiver manda un ACK dando a entender que todo está en orden. El sender reenvía un All-1. (intentos = 5) El receiver da por terminada la comunicación con éxito.\n",
    "\n",
    "\n"
   ],
   "metadata": {
    "collapsed": false
   }
  },
  {
   "cell_type": "markdown",
   "source": [
    "## Caso 4:\n",
    "\n",
    "0000002  \n",
    "0010000  \n",
    "0000000  \n",
    "0000000  \n",
    "\n",
    "* Al enviar el All-1 el sender espera por un ACK (intentos = 1)\n",
    "\n",
    "* El ACK viene con información de la primera ventana. El Sender reenvía la última tile. El sender envía un ACK REQ (intentos = 2)\n",
    "\n",
    "* El ACK viene con información de la primera ventana. El Sender reenvía la última tile. El sender envía un ACK REQ. (intentos = 3)\n",
    "\n",
    "* El ACK viene con información de la segunda ventana. El Sender reenvía la tercera tile. El sender envía un ACK REQ. (intentos = 4)\n",
    "\n",
    "* El ACK informa que está todo bien. El sender envía un All-1. (intentos = 5). Se finaliza la transmisión con éxito."
   ],
   "metadata": {
    "collapsed": false
   }
  },
  {
   "cell_type": "markdown",
   "source": [
    "## Caso 5 *(Error por muchos reintentos)*:\n",
    "\n",
    "0000002  \n",
    "0030000  \n",
    "0000010  \n",
    "0000000  \n",
    "\n",
    "* Al enviar el All-1 el sender espera por un ACK (intentos = 1)\n",
    "\n",
    "* El ACK viene con información de la primera ventana. El Sender reenvía la última tile. El sender envía un ACK REQ (intentos = 2).\n",
    "\n",
    "* El ACK viene con información de la primera ventana. El Sender reenvía la última tile. El sender envía un ACK REQ (intentos = 3).\n",
    "\n",
    "* El ACK viene con información de la segunda ventana. El Sender reenvía la última tile. El sender envía un ACK REQ (intentos = 4).\n",
    "\n",
    "* El ACK viene con información de la primera ventana. El Sender reenvía la última tile. El sender envía un ACK REQ (intentos = 5). \n",
    "\n",
    "* El ACK viene con información de la primera ventana. El Sender reenvía la última tile. El sender se dispone a enviar un ACK REQ pero ya lleva muchos intentos (intentos = 5). Se abandona la transmisión con error.\n",
    "\n"
   ],
   "metadata": {
    "collapsed": false
   }
  },
  {
   "cell_type": "markdown",
   "source": [
    "## Caso 6 *(Se pierde el All-1)* :\n",
    "\n",
    "0000000  \n",
    "0000000  \n",
    "0000000  \n",
    "0000001   \n",
    "\n",
    "* Al enviar el All-1 el sender espera por un ACK (intentos = 1)\n",
    "\n",
    "* Notar que el sender no sabe que se terminaron los paquetes.\n",
    "\n",
    "* Expira `Retransmission Timer`. Por lo tanto Sender envía un ACK REQ. \n",
    "\n",
    "* El ACK viene con información de la cuarta ventana. El Sender reenvía la última tile. El sender envía un ACK REQ (intentos = 2).\n",
    "\n",
    "* El ACK informa que está todo bien. El sender envía un All-1. (intentos = 3). Se finaliza la transmisión con éxito. \n"
   ],
   "metadata": {
    "collapsed": false
   }
  },
  {
   "source": [
    "## Caso 6 *(Se pierde el All-1)* :\n",
    "\n",
    "0000000  \n",
    "0000000  \n",
    "0000000  \n",
    "0000001   \n",
    "\n",
    "* Al enviar el All-1 el sender espera por un ACK (intentos = 1)\n",
    "\n",
    "* Notar que el sender no sabe que se terminaron los paquetes.\n",
    "\n",
    "* Expira `Retransmission Timer`. Por lo tanto Sender envía un ACK REQ. \n",
    "\n",
    "* El ACK viene con información de la cuarta ventana. El Sender reenvía la última tile. El sender envía un ACK REQ (intentos = 2).\n",
    "\n",
    "* El ACK informa que está todo bien. El sender envía un All-1. (intentos = 3). Se finaliza la transmisión con éxito. \n"
   ],
   "cell_type": "markdown",
   "metadata": {}
  },
  {
   "source": [
    "## Caso 3:\n",
    "\n",
    "\n",
    "0010000  \n",
    "0000000  \n",
    "0000002  \n",
    "0000000  \n",
    "\n",
    "* Al enviar el All-1 el sender espera por un ACK (intentos = 1)\n",
    "\n",
    "* El ACK viene con información de la primera ventana. El Sender reenvía la tercera tile (intentos = 2). El sender envía un ACK REQ.\n",
    "* El receiver manda un ACK con info de la tercera ventana. EL sender reenvía la segunda tile (intentos = 3) y luego manda un ACK REQ.\n",
    "* El receiver manda un ACK con info de la tercera ventana. EL sender reenvía la segunda tile (intentos = 4) y luego manda un ACK REQ.\n",
    "* El receiver manda un ACK dando a entender que todo está en orden. El sender reenvía un All-1. (intentos = 5) El receiver da por terminada la comunicación con éxito.\n",
    "\n",
    "\n"
   ],
   "cell_type": "markdown",
   "metadata": {}
  },
  {
   "source": [
    "## Caso 4:\n",
    "\n",
    "0000002  \n",
    "0010000  \n",
    "0000000  \n",
    "0000000  \n",
    "\n",
    "* Al enviar el All-1 el sender espera por un ACK (intentos = 1)\n",
    "\n",
    "* El ACK viene con información de la primera ventana. El Sender reenvía la última tile. El sender envía un ACK REQ (intentos = 2)\n",
    "\n",
    "* El ACK viene con información de la primera ventana. El Sender reenvía la última tile. El sender envía un ACK REQ. (intentos = 3)\n",
    "\n",
    "* El ACK viene con información de la segunda ventana. El Sender reenvía la tercera tile. El sender envía un ACK REQ. (intentos = 4)\n",
    "\n",
    "* El ACK informa que está todo bien. El sender envía un All-1. (intentos = 5). Se finaliza la transmisión con éxito."
   ],
   "cell_type": "markdown",
   "metadata": {}
  },
  {
   "source": [
    "## Caso 5 *(Error por muchos reintentos)*:\n",
    "\n",
    "0000002  \n",
    "0030000  \n",
    "0000010  \n",
    "0000000  \n",
    "\n",
    "* Al enviar el All-1 el sender espera por un ACK (intentos = 1)\n",
    "\n",
    "* El ACK viene con información de la primera ventana. El Sender reenvía la última tile. El sender envía un ACK REQ (intentos = 2).\n",
    "\n",
    "* El ACK viene con información de la primera ventana. El Sender reenvía la última tile. El sender envía un ACK REQ (intentos = 3).\n",
    "\n",
    "* El ACK viene con información de la segunda ventana. El Sender reenvía la última tile. El sender envía un ACK REQ (intentos = 4).\n",
    "\n",
    "* El ACK viene con información de la primera ventana. El Sender reenvía la última tile. El sender envía un ACK REQ (intentos = 5). \n",
    "\n",
    "* El ACK viene con información de la primera ventana. El Sender reenvía la última tile. El sender se dispone a enviar un ACK REQ pero ya lleva muchos intentos (intentos = 5). Se abandona la transmisión con error.\n",
    "\n"
   ],
   "cell_type": "markdown",
   "metadata": {}
  },
  {
   "source": [
    "## Caso 6 *(Se pierde el All-1)* :\n",
    "\n",
    "0000000  \n",
    "0000000  \n",
    "0000000  \n",
    "0000001   \n",
    "\n",
    "* Al enviar el All-1 el sender espera por un ACK (intentos = 1)\n",
    "\n",
    "* Notar que el sender no sabe que se terminaron los paquetes.\n",
    "\n",
    "* Expira `Retransmission Timer`. Por lo tanto Sender envía un ACK REQ. \n",
    "\n",
    "* El ACK viene con información de la cuarta ventana. El Sender reenvía la última tile. El sender envía un ACK REQ (intentos = 2).\n",
    "\n",
    "* El ACK informa que está todo bien. El sender envía un All-1. (intentos = 3). Se finaliza la transmisión con éxito. \n"
   ],
   "cell_type": "markdown",
   "metadata": {}
  }
 ]
}